{
 "cells": [
  {
   "cell_type": "code",
   "execution_count": 2,
   "metadata": {},
   "outputs": [],
   "source": [
    "import tweepy\n",
    "import auth\n",
    "consumerKey = auth.APIKey\n",
    "consumerSecret = auth.APIKeySecret\n",
    "accessToken = auth.accessToken\n",
    "accessTokenSecret = auth.accessTokenSecret\n",
    "\n",
    "auth = tweepy.OAuthHandler(consumerKey, consumerSecret)\n",
    "auth.set_access_token(accessToken, accessTokenSecret)\n",
    "api = tweepy.API(auth)"
   ]
  },
  {
   "cell_type": "code",
   "execution_count": 3,
   "metadata": {},
   "outputs": [
    {
     "name": "stdout",
     "output_type": "stream",
     "text": [
      "Every week we publish stories that help you understand our fascinating world a little bit better. See how well you'… https://t.co/uqZ9McRQiN\n",
      "RT @ismh: My pal @caseyliss has a new app out! https://t.co/VnxI1E0vrz\n",
      "RT @BenRiceM: I very much enjoy the fact that Casey designed this app with the intent of protecting the privacy of his kids, and I use it t…\n",
      "roommates boyfriend loves to track his wet boots through the house and leave the tv remote coated in grease\n",
      "*trying out a new look*\n",
      "\n",
      "“i like your clothing style. that’s a cool fit!”\n",
      "Austinites drop cool spots pls the tourism internet is cursed\n",
      "AAAAAAAAAAAAAAAAAHHHHHHHHHH\n",
      "Work by @avishkar58, Bethanie Brownfield, @adriancollister, @agudallago, Ashley Edwards, @reverettai, Alexandre Fre… https://t.co/HBMLsgQfUH\n",
      "The agents can follow &amp; remember human demonstrations despite never training with humans. This shows that cultural… https://t.co/qtG34y2J5X\n",
      "Fast, flexible cultural transmission underpins human intelligence. Our team trains an AI capable of real-time cultu… https://t.co/cdrcQafyOz\n",
      "Gratitude: deaf/HOH aren't a fashionable victim group. If we were, I'd have signed informed consent and gotten coch… https://t.co/SPQD15jEVN\n",
      "shawty want me she be goosin\n",
      "Trivia the #WolframWay, Wolfram|Alpha notebooks use computational thinking and natural language input to determine… https://t.co/J96sDOFbtg\n",
      "Yesterday: Rivian raises the price of the R1T and R1S preorders by $12,000+ and won't honor original purchase price… https://t.co/ft9XutrHg3\n",
      "BALENCIAGA ON ME EVERYTIME I WALK OUT\n",
      "https://t.co/GceHfIIbGn\n",
      "vyvanse got my heart feeling like la bomba machine crackin the enigma code tho\n",
      "Austin isn't ready for this\n",
      "Oh, lmao, “the art” “a sense that more is possible”, “rationality training” - CFAR is straightforwardly in line wit… https://t.co/TJL35eHPw5\n",
      "blood pressure is at pre-pre-hypertensive numbers aka normal\n"
     ]
    }
   ],
   "source": [
    "public_tweets = api.home_timeline()\n",
    "for tweet in public_tweets:\n",
    "    print(tweet.text)"
   ]
  },
  {
   "cell_type": "code",
   "execution_count": null,
   "metadata": {},
   "outputs": [],
   "source": []
  }
 ],
 "metadata": {
  "interpreter": {
   "hash": "1ca454e0e9bd971a5f01f194fc3a40b69707954b20758870f4b0b6fce2a6fb4e"
  },
  "kernelspec": {
   "display_name": "Python 3.9.7 ('base')",
   "language": "python",
   "name": "python3"
  },
  "language_info": {
   "codemirror_mode": {
    "name": "ipython",
    "version": 3
   },
   "file_extension": ".py",
   "mimetype": "text/x-python",
   "name": "python",
   "nbconvert_exporter": "python",
   "pygments_lexer": "ipython3",
   "version": "3.9.7"
  },
  "orig_nbformat": 4
 },
 "nbformat": 4,
 "nbformat_minor": 2
}
